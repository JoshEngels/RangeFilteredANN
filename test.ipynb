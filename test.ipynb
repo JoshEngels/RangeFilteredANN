{
 "cells": [
  {
   "cell_type": "code",
   "execution_count": null,
   "metadata": {},
   "outputs": [],
   "source": [
    "%load_ext autoreload\n",
    "%autoreload 2"
   ]
  },
  {
   "cell_type": "code",
   "execution_count": null,
   "metadata": {},
   "outputs": [],
   "source": [
    "from collections import defaultdict\n",
    "from range_index import create_range_index\n",
    "from utils import parse_ann_benchmarks_hdf5\n",
    "import numpy as np\n",
    "import time\n",
    "from tqdm import tqdm\n",
    "\n",
    "\n",
    "filter_path = \"/data/scratch/jae/ann_benchmarks_datasets/sift-128-euclidean_filters.npy\"\n",
    "data_path = \"/data/scratch/jae/ann_benchmarks_datasets/sift-128-euclidean.hdf5\"\n",
    "\n",
    "index = create_range_index(data_path, filter_path)\n",
    "\n",
    "queries = parse_ann_benchmarks_hdf5(data_path)[1]\n",
    "\n",
    "if \"angular\" in data_path:\n",
    "    queries = queries / np.linalg.norm(queries, axis=-1)[:, np.newaxis]\n",
    "\n",
    "\n",
    "# TODO: Should also vary index quality\n",
    "# TODO: Should also vary cutoff level\n",
    "# TODO: Try on larger datasets\n",
    "\n",
    "\n",
    "top_k = 10\n",
    "output_file = \"glove_experiment.txt\"\n",
    "\n",
    "with open(output_file, \"a\") as f:\n",
    "    f.write(\"filter_width,method,recall,average_time\\n\")\n"
   ]
  },
  {
   "cell_type": "code",
   "execution_count": 38,
   "metadata": {},
   "outputs": [
    {
     "name": "stderr",
     "output_type": "stream",
     "text": [
      "100%|██████████| 1000/1000 [01:32<00:00, 10.82it/s]\n",
      "100%|██████████| 1000/1000 [02:42<00:00,  6.17it/s]\n",
      "100%|██████████| 1000/1000 [05:56<00:00,  2.80it/s]\n",
      "100%|██████████| 1000/1000 [06:58<00:00,  2.39it/s]\n",
      "100%|██████████| 1000/1000 [07:33<00:00,  2.20it/s]\n",
      "100%|██████████| 1000/1000 [08:43<00:00,  1.91it/s]\n",
      " 25%|██▌       | 252/1000 [02:25<07:13,  1.73it/s]\n"
     ]
    },
    {
     "ename": "KeyboardInterrupt",
     "evalue": "",
     "output_type": "error",
     "traceback": [
      "\u001b[0;31m---------------------------------------------------------------------------\u001b[0m",
      "\u001b[0;31mKeyboardInterrupt\u001b[0m                         Traceback (most recent call last)",
      "Cell \u001b[0;32mIn[38], line 8\u001b[0m\n\u001b[1;32m      5\u001b[0m filter_range \u001b[38;5;241m=\u001b[39m (random_filter_start, random_filter_start \u001b[38;5;241m+\u001b[39m filter_width)\n\u001b[1;32m      7\u001b[0m start \u001b[38;5;241m=\u001b[39m time\u001b[38;5;241m.\u001b[39mtime()\n\u001b[0;32m----> 8\u001b[0m gt \u001b[38;5;241m=\u001b[39m \u001b[43mindex\u001b[49m\u001b[38;5;241;43m.\u001b[39;49m\u001b[43mprefilter_query\u001b[49m\u001b[43m(\u001b[49m\u001b[43mq\u001b[49m\u001b[43m,\u001b[49m\u001b[43m \u001b[49m\u001b[43mtop_k\u001b[49m\u001b[38;5;241;43m=\u001b[39;49m\u001b[43mtop_k\u001b[49m\u001b[43m,\u001b[49m\u001b[43m \u001b[49m\u001b[43mfilter_range\u001b[49m\u001b[38;5;241;43m=\u001b[39;49m\u001b[43mfilter_range\u001b[49m\u001b[43m)\u001b[49m\n\u001b[1;32m      9\u001b[0m run_results[\u001b[38;5;124m\"\u001b[39m\u001b[38;5;124mprefiltering\u001b[39m\u001b[38;5;124m\"\u001b[39m]\u001b[38;5;241m.\u001b[39mappend((\u001b[38;5;241m1\u001b[39m, time\u001b[38;5;241m.\u001b[39mtime() \u001b[38;5;241m-\u001b[39m start))\n\u001b[1;32m     10\u001b[0m \u001b[38;5;66;03m# print(\"GT\", gt)\u001b[39;00m\n",
      "File \u001b[0;32m/data/scratch/jae/RangeFilteredANN/range_index.py:224\u001b[0m, in \u001b[0;36mRangeIndex.prefilter_query\u001b[0;34m(self, query, top_k, filter_range)\u001b[0m\n\u001b[1;32m    221\u001b[0m     \u001b[38;5;28;01mraise\u001b[39;00m \u001b[38;5;167;01mValueError\u001b[39;00m(\u001b[38;5;124m\"\u001b[39m\u001b[38;5;124mUnknown distance metric\u001b[39m\u001b[38;5;124m\"\u001b[39m)\n\u001b[1;32m    223\u001b[0m identifiers \u001b[38;5;241m=\u001b[39m np\u001b[38;5;241m.\u001b[39marray(identifiers)\n\u001b[0;32m--> 224\u001b[0m distances \u001b[38;5;241m=\u001b[39m \u001b[43mnp\u001b[49m\u001b[38;5;241;43m.\u001b[39;49m\u001b[43marray\u001b[49m\u001b[43m(\u001b[49m\u001b[43mdistances\u001b[49m\u001b[43m)\u001b[49m\n\u001b[1;32m    226\u001b[0m \u001b[38;5;28;01massert\u001b[39;00m \u001b[38;5;28mlen\u001b[39m(identifiers) \u001b[38;5;241m==\u001b[39m \u001b[38;5;28mlen\u001b[39m(distances)\n\u001b[1;32m    228\u001b[0m \u001b[38;5;28;01mif\u001b[39;00m \u001b[38;5;28mself\u001b[39m\u001b[38;5;241m.\u001b[39mdistance_metric \u001b[38;5;241m==\u001b[39m \u001b[38;5;124m\"\u001b[39m\u001b[38;5;124mmips\u001b[39m\u001b[38;5;124m\"\u001b[39m:\n",
      "\u001b[0;31mKeyboardInterrupt\u001b[0m: "
     ]
    }
   ],
   "source": [
    "for filter_width in [0.1]:\n",
    "    run_results = defaultdict(list)\n",
    "    for q in tqdm(queries[:100]):\n",
    "        random_filter_start = np.random.uniform(0, 1 - filter_width)\n",
    "        filter_range = (random_filter_start, random_filter_start + filter_width)\n",
    "\n",
    "        start = time.time()\n",
    "        gt = index.prefilter_query(q, top_k=top_k, filter_range=filter_range)\n",
    "        run_results[\"prefiltering\"].append((1, time.time() - start))\n",
    "        # print(\"GT\", gt)\n",
    "        for postfilter_doubles in range(6):\n",
    "            for query_complexity in [10, 20, 40, 80, 160, 320, 640]:\n",
    "                start = time.time()\n",
    "                our_result = index.query(\n",
    "                    q,\n",
    "                    top_k=top_k,\n",
    "                    query_complexity=query_complexity,\n",
    "                    filter_range=filter_range,\n",
    "                    postfilter_doubles=postfilter_doubles\n",
    "                )\n",
    "                # print(our_result)\n",
    "                run_results[f\"ours_{query_complexity}_{postfilter_doubles}\"].append(\n",
    "                    (\n",
    "                        len([x for x in gt[0] if x in our_result[0]]) / len(gt[0]),\n",
    "                        time.time() - start,\n",
    "                    )\n",
    "                )\n",
    "\n",
    "        for extra_doubles in range(6):\n",
    "            start = time.time()\n",
    "            postfilter_result = index.postfilter_query(\n",
    "                q, top_k=top_k, filter_range=filter_range, extra_doubles=extra_doubles\n",
    "            )\n",
    "            # print(filter_range, [index.filter_values[i] for i in gt[0]], [index.filter_values[i] for i in postfilter_result[0]])\n",
    "            run_results[f\"postfiltering_{extra_doubles}\"].append(\n",
    "                (\n",
    "                    len([x for x in gt[0] if x in postfilter_result[0]]) / len(gt[0]),\n",
    "                    time.time() - start,\n",
    "                )\n",
    "            )\n",
    "\n",
    "    with open(output_file, \"a\") as f:\n",
    "        for name, zipped_recalls_times in run_results.items():\n",
    "            recalls = [r for r, _ in zipped_recalls_times]\n",
    "            times = [t for _, t in zipped_recalls_times]\n",
    "            f.write(f\"{filter_width},{name},{np.mean(recalls)},{np.mean(times)}\\n\")"
   ]
  },
  {
   "cell_type": "code",
   "execution_count": null,
   "metadata": {},
   "outputs": [],
   "source": []
  }
 ],
 "metadata": {
  "kernelspec": {
   "display_name": "torch",
   "language": "python",
   "name": "python3"
  },
  "language_info": {
   "codemirror_mode": {
    "name": "ipython",
    "version": 3
   },
   "file_extension": ".py",
   "mimetype": "text/x-python",
   "name": "python",
   "nbconvert_exporter": "python",
   "pygments_lexer": "ipython3",
   "version": "3.10.13"
  }
 },
 "nbformat": 4,
 "nbformat_minor": 2
}
