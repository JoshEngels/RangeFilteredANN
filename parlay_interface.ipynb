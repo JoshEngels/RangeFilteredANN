{
 "cells": [
  {
   "cell_type": "code",
   "execution_count": 8,
   "metadata": {},
   "outputs": [],
   "source": [
    "import sys\n",
    "import os\n",
    "from pathlib import Path\n",
    "import numpy as np\n",
    "import time\n",
    "\n",
    "# wonky but works\n",
    "sys.path.append(str(Path('./ParlayANN/python').resolve()))\n",
    "\n",
    "import wrapper as wp\n",
    "\n",
    "from utils import *"
   ]
  },
  {
   "cell_type": "code",
   "execution_count": 9,
   "metadata": {},
   "outputs": [],
   "source": [
    "THREADS = 96\n",
    "os.environ[\"PARLAY_NUM_THREADS\"] = str(THREADS)"
   ]
  },
  {
   "cell_type": "code",
   "execution_count": 10,
   "metadata": {},
   "outputs": [],
   "source": [
    "# loading data\n",
    "data_dir = \"/ssd1/anndata/ann-benchmarks/\"\n",
    "dataset_name = \"sift-128-euclidean\"\n",
    "\n",
    "data_path = os.path.join(data_dir, f\"{dataset_name}.hdf5\")\n",
    "filter_path = os.path.join(data_dir, f\"{dataset_name}_filters.npy\")\n",
    "\n",
    "data = parse_ann_benchmarks_hdf5(data_path)[0]\n",
    "filter_values = np.load(filter_path)\n",
    "\n",
    "queries = parse_ann_benchmarks_hdf5(data_path)[1]\n",
    "\n",
    "if 'angular' in dataset_name:\n",
    "    metric = \"mips\"\n",
    "    # normalize data\n",
    "    data = data / np.linalg.norm(data, axis=-1)[:, np.newaxis]\n",
    "else:\n",
    "    metric = \"Euclidian\""
   ]
  },
  {
   "cell_type": "code",
   "execution_count": 11,
   "metadata": {},
   "outputs": [
    {
     "name": "stdout",
     "output_type": "stream",
     "text": [
      "prefiltering index build\n",
      "prefiltering index build time: 0.433s\n"
     ]
    }
   ],
   "source": [
    "# do prefiltering index build\n",
    "print(\"prefiltering index build\")\n",
    "prefilter_constructor = wp.prefilter_index_constructor(metric, 'float')\n",
    "prefilter_build_start = time.time()\n",
    "prefilter_index = prefilter_constructor(data, filter_values)\n",
    "prefilter_build_end = time.time()\n",
    "prefilter_build_time = prefilter_build_end - prefilter_build_start\n",
    "print(f\"prefiltering index build time: {prefilter_build_time:.3f}s\")"
   ]
  },
  {
   "cell_type": "code",
   "execution_count": 12,
   "metadata": {},
   "outputs": [
    {
     "name": "stdout",
     "output_type": "stream",
     "text": [
      "building index\n",
      "index build time: 1.634s\n"
     ]
    }
   ],
   "source": [
    "# build index\n",
    "constructor = wp.range_filter_tree_index_constructor(metric, 'float')\n",
    "print(\"building index\")\n",
    "index_build_start = time.time()\n",
    "index = constructor(data, filter_values, 1_000)\n",
    "index_build_end = time.time()\n",
    "index_build_time = index_build_end - index_build_start\n",
    "print(f\"index build time: {index_build_time:.3f}s\")"
   ]
  },
  {
   "cell_type": "code",
   "execution_count": 13,
   "metadata": {},
   "outputs": [],
   "source": [
    "top_k = 10\n",
    "filter_width = 0.25\n",
    "\n",
    "raw_filters = np.random.uniform(filter_width / 2, 1 - filter_width / 2, size=len(queries))\n",
    "\n",
    "filters = np.array([(x - filter_width / 2, x + filter_width / 2) for x in raw_filters])"
   ]
  },
  {
   "cell_type": "code",
   "execution_count": 14,
   "metadata": {},
   "outputs": [
    {
     "name": "stdout",
     "output_type": "stream",
     "text": [
      "prefilter querying\n",
      "prefiltering time: 20.246s\n"
     ]
    }
   ],
   "source": [
    "print(\"prefilter querying\")\n",
    "prefiltering_start = time.time()\n",
    "prefilter_results = prefilter_index.batch_query(queries, filters, queries.shape[0], top_k)\n",
    "prefiltering_end = time.time()\n",
    "prefiltering_time = prefiltering_end - prefiltering_start\n",
    "print(f\"prefiltering time: {prefiltering_time:.3f}s\")"
   ]
  },
  {
   "cell_type": "code",
   "execution_count": 15,
   "metadata": {},
   "outputs": [
    {
     "name": "stdout",
     "output_type": "stream",
     "text": [
      "index querying\n",
      "index time: 20.869s\n"
     ]
    }
   ],
   "source": [
    "print(\"index querying\")\n",
    "start = time.time()\n",
    "index_results = index.batch_filter_search(queries, filters, queries.shape[0], top_k)\n",
    "end = time.time()\n",
    "index_time = end - start\n",
    "print(f\"index time: {index_time:.3f}s\")"
   ]
  },
  {
   "cell_type": "code",
   "execution_count": 16,
   "metadata": {},
   "outputs": [],
   "source": [
    "def compute_recall(gt_neighbors, results, top_k):\n",
    "    recall = 0\n",
    "    for i in range(len(gt_neighbors)): # for each query\n",
    "        gt = set(gt_neighbors[i])\n",
    "        res = set(results[i][:top_k])\n",
    "        recall += len(gt.intersection(res)) / len(gt)\n",
    "    return recall / len(gt_neighbors) # average recall per query"
   ]
  },
  {
   "cell_type": "code",
   "execution_count": 18,
   "metadata": {},
   "outputs": [
    {
     "name": "stdout",
     "output_type": "stream",
     "text": [
      "index recall: 99.98%\n",
      "index average time: 2.09ms\n",
      "prefilter average time: 2.02ms\n",
      "index qps: 479.19\n",
      "prefilter qps: 493.94\n"
     ]
    }
   ],
   "source": [
    "# compute recall\n",
    "index_recall = compute_recall(prefilter_results[0], index_results[0], top_k)\n",
    "print(f\"index recall: {index_recall*100:.2f}%\")\n",
    "\n",
    "# compute average time\n",
    "index_average_time = index_time / queries.shape[0]\n",
    "prefilter_average_time = prefiltering_time / queries.shape[0]\n",
    "print(f\"index average time: {index_average_time*1000:.2f}ms\")\n",
    "print(f\"prefilter average time: {prefilter_average_time*1000:.2f}ms\")\n",
    "\n",
    "# compute qps\n",
    "index_qps = queries.shape[0] / index_time\n",
    "prefilter_qps = queries.shape[0] / prefiltering_time\n",
    "print(f\"index qps: {index_qps:.2f}\")\n",
    "print(f\"prefilter qps: {prefilter_qps:.2f}\")"
   ]
  }
 ],
 "metadata": {
  "kernelspec": {
   "display_name": "bigann",
   "language": "python",
   "name": "python3"
  },
  "language_info": {
   "codemirror_mode": {
    "name": "ipython",
    "version": 3
   },
   "file_extension": ".py",
   "mimetype": "text/x-python",
   "name": "python",
   "nbconvert_exporter": "python",
   "pygments_lexer": "ipython3",
   "version": "3.10.12"
  }
 },
 "nbformat": 4,
 "nbformat_minor": 2
}
